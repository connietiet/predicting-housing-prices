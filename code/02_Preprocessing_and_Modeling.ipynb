{
 "cells": [
  {
   "cell_type": "markdown",
   "metadata": {},
   "source": [
    "# Preprocessing and Modeling"
   ]
  },
  {
   "cell_type": "code",
   "execution_count": 1,
   "metadata": {},
   "outputs": [],
   "source": [
    "from sklearn.pipeline import Pipeline\n",
    "from sklearn.linear_model import LassoCV, Ridge, LinearRegression\n",
    "from sklearn.preprocessing import StandardScaler\n",
    "from sklearn.model_selection import train_test_split, GridSearchCV\n",
    "from sklearn.feature_selection import SelectKBest, VarianceThreshold, f_regression\n",
    "from sklearn.metrics import mean_squared_error, r2_score\n",
    "import numpy as np\n",
    "import pandas as pd\n",
    "import matplotlib.pyplot as plt\n",
    "import seaborn as sns\n",
    "import pickle\n",
    "\n",
    "sns.set_style('darkgrid')\n",
    "sns.set_palette(palette='colorblind')\n",
    "np.random.seed(44)\n",
    "%matplotlib inline"
   ]
  },
  {
   "cell_type": "code",
   "execution_count": 2,
   "metadata": {},
   "outputs": [],
   "source": [
    "ames = pd.read_csv('../data/train_clean.csv', index_col='Id')"
   ]
  },
  {
   "cell_type": "markdown",
   "metadata": {},
   "source": [
    "We create a binary column for every categorical column in order to feed it into our model."
   ]
  },
  {
   "cell_type": "code",
   "execution_count": 3,
   "metadata": {},
   "outputs": [],
   "source": [
    "ames_dummies = pd.get_dummies(data=ames)"
   ]
  },
  {
   "cell_type": "markdown",
   "metadata": {},
   "source": [
    "## Model Prep"
   ]
  },
  {
   "cell_type": "code",
   "execution_count": 4,
   "metadata": {},
   "outputs": [],
   "source": [
    "X = ames_dummies.drop('saleprice', axis = 1)\n",
    "y = ames_dummies['saleprice']"
   ]
  },
  {
   "cell_type": "code",
   "execution_count": 5,
   "metadata": {},
   "outputs": [],
   "source": [
    "X_train, X_test, y_train, y_test = train_test_split(X, y, random_state=44)"
   ]
  },
  {
   "cell_type": "markdown",
   "metadata": {},
   "source": [
    "## Modeling"
   ]
  },
  {
   "cell_type": "markdown",
   "metadata": {},
   "source": [
    "### Baseline Model"
   ]
  },
  {
   "cell_type": "code",
   "execution_count": 6,
   "metadata": {},
   "outputs": [
    {
     "data": {
      "text/plain": [
       "180697.30658838878"
      ]
     },
     "execution_count": 6,
     "metadata": {},
     "output_type": "execute_result"
    }
   ],
   "source": [
    "np.mean(y_train)"
   ]
  },
  {
   "cell_type": "markdown",
   "metadata": {},
   "source": [
    "This serves as our baseline model. We assume a house’s sale price will be $180,697.31 without taking into account the features and how they contribute differently. The y-intercept of our models should resemble this value."
   ]
  },
  {
   "cell_type": "markdown",
   "metadata": {},
   "source": [
    "### Multiple Linear Regression (MLR)"
   ]
  },
  {
   "cell_type": "markdown",
   "metadata": {},
   "source": [
    "The MLR model finds the line of best fit that minimizes our error - the difference between predicted values and observed values. It assumes:\n",
    "    -  Linearity between our X features and `sale price` (Y)\n",
    "    -  Independence of errors\n",
    "    -  Normality of errors\n",
    "    -  Equality of Variances\n",
    "    -  Independence between our independent X features\n",
    "    \n",
    "** Reason for choosing model: ** From our baseline model, where the `sale price` is simply the average of all `sale price`, we go slightly more complex with a MLR model. We know that collinearity exists between our features, which does not comply with the assumptions. Even so, it'll be helpful to see how well a MLR models the data and then improve from there."
   ]
  },
  {
   "cell_type": "code",
   "execution_count": 7,
   "metadata": {},
   "outputs": [],
   "source": [
    "lr_pipe = Pipeline([\n",
    "    ('var_thresh', VarianceThreshold(.01)),\n",
    "    ('ss', StandardScaler()),\n",
    "    ('kbest', SelectKBest(f_regression, k=100)),\n",
    "    ('lr', LinearRegression())\n",
    "])"
   ]
  },
  {
   "cell_type": "markdown",
   "metadata": {},
   "source": [
    "-  We sequentially apply transforms using `Pipeline`:\n",
    "\n",
    "    1. **Variance Threshold**: Any features with a variance threshold less than `.01` will be dropped from our model. These features have low variance and will have little contribution. A low threshold is set because more feature selection will take place (step 3).\n",
    "    2. **Standard Scalar**: The features are then standardized to display normal distribution. They're scaled to prevent any one with a higher magnitude to dominate others.  \n",
    "    3. **SelectKBest**: Features are scored using f-regression and the top 100 are selected. Number of top features, `k` was arbitrarily chosen and the most optimal value will be determined with Grid Search later.\n",
    "    4. **Linear Regression**: We're creating a MLR model and it's instantiated here. "
   ]
  },
  {
   "cell_type": "code",
   "execution_count": 8,
   "metadata": {},
   "outputs": [
    {
     "data": {
      "text/plain": [
       "Pipeline(memory=None,\n",
       "     steps=[('var_thresh', VarianceThreshold(threshold=0.01)), ('ss', StandardScaler(copy=True, with_mean=True, with_std=True)), ('kbest', SelectKBest(k=100, score_func=<function f_regression at 0x117ca0a60>)), ('lr', LinearRegression(copy_X=True, fit_intercept=True, n_jobs=1, normalize=False))])"
      ]
     },
     "execution_count": 8,
     "metadata": {},
     "output_type": "execute_result"
    }
   ],
   "source": [
    "lr_pipe.fit(X_train, y_train)"
   ]
  },
  {
   "cell_type": "markdown",
   "metadata": {},
   "source": [
    "-  The MLR model is fitted to our training set. "
   ]
  },
  {
   "cell_type": "markdown",
   "metadata": {},
   "source": [
    "#### ${R^2}$ Scores"
   ]
  },
  {
   "cell_type": "code",
   "execution_count": 9,
   "metadata": {},
   "outputs": [
    {
     "data": {
      "text/plain": [
       "0.9131418224513435"
      ]
     },
     "execution_count": 9,
     "metadata": {},
     "output_type": "execute_result"
    }
   ],
   "source": [
    "lr_pipe.score(X_train, y_train)"
   ]
  },
  {
   "cell_type": "markdown",
   "metadata": {},
   "source": [
    "-  The model scored high on the training set, with an $R^{2}$ score of `.9131`. \n",
    "-  91.31% of the variance in the data (`y_train`) is explained by our model, relative to the mean (`180697.31`)."
   ]
  },
  {
   "cell_type": "code",
   "execution_count": 10,
   "metadata": {},
   "outputs": [
    {
     "data": {
      "text/plain": [
       "-3.1790332806969336e+22"
      ]
     },
     "execution_count": 10,
     "metadata": {},
     "output_type": "execute_result"
    }
   ],
   "source": [
    "lr_pipe.score(X_test, y_test)"
   ]
  },
  {
   "cell_type": "markdown",
   "metadata": {},
   "source": [
    "-  The model scored worse on the testing set, with an $R^{2}$ score of $-3.17 e^{+22}$.\n",
    "-  The score is worse than our baseline model score of 0."
   ]
  },
  {
   "cell_type": "markdown",
   "metadata": {},
   "source": [
    "#### RMSE"
   ]
  },
  {
   "cell_type": "code",
   "execution_count": 11,
   "metadata": {},
   "outputs": [
    {
     "data": {
      "text/plain": [
       "1.497012455288918e+16"
      ]
     },
     "execution_count": 11,
     "metadata": {},
     "output_type": "execute_result"
    }
   ],
   "source": [
    "lr_rmse = mean_squared_error(y_test, lr_pipe.predict(X_test)) ** 0.5\n",
    "lr_rmse"
   ]
  },
  {
   "cell_type": "markdown",
   "metadata": {},
   "source": [
    "-  The RMSE is significantly greater than our baseline model of `180697.31`."
   ]
  },
  {
   "cell_type": "markdown",
   "metadata": {},
   "source": [
    "#### Takeaways\n",
    "-  We expected the MLR model to perform better than our baseline, but this was not the case. \n",
    "    -  Our model's $R^{2}$ on the testing set and the RMSE were worse than our baseline model's score.\n",
    "-  The model assumptions were not met, with multicollinearity existing between features that were not removed. This can help explain why our model broke. \n",
    "-  We will move onto regularization to fix the model and make sure the weight of our coefficients are due to signal rather than noise."
   ]
  },
  {
   "cell_type": "markdown",
   "metadata": {},
   "source": [
    "### Lasso"
   ]
  },
  {
   "cell_type": "markdown",
   "metadata": {},
   "source": [
    "Lasso, a type of feature selection, penalizes large coefficients due to noise and reduces them to zero. It will have little effect on large coefficients that are actually due to signal. \n",
    "\n",
    "** Reason for Choosing Model: ** We have a large number of features and want to aggressively remove features that do not contribute to our model entirely. This will address the issue we encountered in MLR, where, even with some feature selection, the model broke. It will also allow for easier interpretability."
   ]
  },
  {
   "cell_type": "code",
   "execution_count": 12,
   "metadata": {},
   "outputs": [],
   "source": [
    "lasso_pipe = Pipeline([\n",
    "    ('var_thresh', VarianceThreshold(.01)),\n",
    "    ('ss', StandardScaler()),\n",
    "    ('kbest', SelectKBest(f_regression, k=100)),\n",
    "    ('lasso', LassoCV())\n",
    "])"
   ]
  },
  {
   "cell_type": "markdown",
   "metadata": {},
   "source": [
    "-  Similar to before, we sequentially apply transforms using `Pipeline` and the same parameters:\n",
    "\n",
    "    1. **Variance Threshold**\n",
    "    2. **Standard Scalar**: This is required because the size of a coefficient depends on the scale of the independent variable. Regularization, in turn, penalizes the size of these coefficients.\n",
    "    3. **SelectKBest**\n",
    "    4. **Lasso**: We're applying a Lasso penalty and it's instantiated here. "
   ]
  },
  {
   "cell_type": "code",
   "execution_count": 13,
   "metadata": {},
   "outputs": [
    {
     "data": {
      "text/plain": [
       "Pipeline(memory=None,\n",
       "     steps=[('var_thresh', VarianceThreshold(threshold=0.01)), ('ss', StandardScaler(copy=True, with_mean=True, with_std=True)), ('kbest', SelectKBest(k=100, score_func=<function f_regression at 0x117ca0a60>)), ('lasso', LassoCV(alphas=None, copy_X=True, cv=None, eps=0.001, fit_intercept=True,\n",
       "    max_iter=1000, n_alphas=100, n_jobs=1, normalize=False, positive=False,\n",
       "    precompute='auto', random_state=None, selection='cyclic', tol=0.0001,\n",
       "    verbose=False))])"
      ]
     },
     "execution_count": 13,
     "metadata": {},
     "output_type": "execute_result"
    }
   ],
   "source": [
    "lasso_pipe.fit(X_train, y_train)"
   ]
  },
  {
   "cell_type": "markdown",
   "metadata": {},
   "source": [
    "-  Lasso is fitted to our training set."
   ]
  },
  {
   "cell_type": "markdown",
   "metadata": {},
   "source": [
    "#### $R^{2}$ Scores"
   ]
  },
  {
   "cell_type": "code",
   "execution_count": 14,
   "metadata": {},
   "outputs": [
    {
     "data": {
      "text/plain": [
       "0.9147634908349038"
      ]
     },
     "execution_count": 14,
     "metadata": {},
     "output_type": "execute_result"
    }
   ],
   "source": [
    "lasso_pipe.score(X_train, y_train)"
   ]
  },
  {
   "cell_type": "markdown",
   "metadata": {},
   "source": [
    "-  The model scored high on the training set, with an $R^{2}$ score of `.9148`.\n",
    "-  91.48% of the variance in the data (`y_train`) is explained by our model, relative to the mean (`180697.31`)."
   ]
  },
  {
   "cell_type": "code",
   "execution_count": 15,
   "metadata": {},
   "outputs": [
    {
     "data": {
      "text/plain": [
       "0.9036873458386654"
      ]
     },
     "execution_count": 15,
     "metadata": {},
     "output_type": "execute_result"
    }
   ],
   "source": [
    "lasso_pipe.score(X_test, y_test)"
   ]
  },
  {
   "cell_type": "markdown",
   "metadata": {},
   "source": [
    "-  The model scored high on the testing set as well, with an $R^{2}$ score of `.9037`.\n",
    "-  90.37% of the variance in the data (`y_test`) is explained by our model, relative ot the mean (`180697.31`)."
   ]
  },
  {
   "cell_type": "markdown",
   "metadata": {},
   "source": [
    "#### RMSE"
   ]
  },
  {
   "cell_type": "code",
   "execution_count": 16,
   "metadata": {},
   "outputs": [
    {
     "data": {
      "text/plain": [
       "26056.70835640306"
      ]
     },
     "execution_count": 16,
     "metadata": {},
     "output_type": "execute_result"
    }
   ],
   "source": [
    "lasso_rmse = mean_squared_error(y_test, lasso_pipe.predict(X_test)) ** 0.5\n",
    "lasso_rmse"
   ]
  },
  {
   "cell_type": "markdown",
   "metadata": {},
   "source": [
    "-  The model has a RMSE of `26056.71`.\n",
    "-  The predicted sale price will typically be lower or higher than the true sale price by `$26056.71`."
   ]
  },
  {
   "cell_type": "markdown",
   "metadata": {},
   "source": [
    "#### Takeaways\n",
    "-  The model performed well on both our training and testing set. \n",
    "-  Our scores are relatively close to each other, with the $R^{2}$ score on our training set being higher by only `.01`. \n",
    "-  As expected, we have a better RMSE than our baseline model.\n",
    "-  We will try another type of regularization, Ridge and compare the scores to see which model performs better."
   ]
  },
  {
   "cell_type": "markdown",
   "metadata": {},
   "source": [
    "### Ridge"
   ]
  },
  {
   "cell_type": "markdown",
   "metadata": {},
   "source": [
    "Similar to Lasso, Ridge penalizes large coefficients due to noise and will have little effect on large coefficients that are actually due to signal. However, the magnititudes of the coefficients are reduced, not zeroed out. \n",
    "\n",
    "** Reason for Choosing Model: ** Ridge will be helpful in addresing the multicollinearity issue we're currently experiencing. It reduces model complexity by shrinking the coefficients, but does not remove them entirely."
   ]
  },
  {
   "cell_type": "code",
   "execution_count": 17,
   "metadata": {},
   "outputs": [],
   "source": [
    "ridge_pipe = Pipeline([\n",
    "    ('var_thresh', VarianceThreshold(.01)),\n",
    "    ('ss', StandardScaler()),\n",
    "    ('kbest', SelectKBest(f_regression, k=100)),\n",
    "    ('ridge', Ridge())\n",
    "])"
   ]
  },
  {
   "cell_type": "markdown",
   "metadata": {},
   "source": [
    "-  Again, we use `Pipeline`:\n",
    "\n",
    "    1. **Variance Threshold**\n",
    "    2. **Standard Scalar**\n",
    "    3. **SelectKBest**\n",
    "    4. **Ridge**: We're applying a Ridge penalty and it's instantiated here. "
   ]
  },
  {
   "cell_type": "code",
   "execution_count": 18,
   "metadata": {},
   "outputs": [
    {
     "data": {
      "text/plain": [
       "Pipeline(memory=None,\n",
       "     steps=[('var_thresh', VarianceThreshold(threshold=0.01)), ('ss', StandardScaler(copy=True, with_mean=True, with_std=True)), ('kbest', SelectKBest(k=100, score_func=<function f_regression at 0x117ca0a60>)), ('ridge', Ridge(alpha=1.0, copy_X=True, fit_intercept=True, max_iter=None,\n",
       "   normalize=False, random_state=None, solver='auto', tol=0.001))])"
      ]
     },
     "execution_count": 18,
     "metadata": {},
     "output_type": "execute_result"
    }
   ],
   "source": [
    "ridge_pipe.fit(X_train, y_train)"
   ]
  },
  {
   "cell_type": "markdown",
   "metadata": {},
   "source": [
    "-  Ridge is fitted to our training set."
   ]
  },
  {
   "cell_type": "markdown",
   "metadata": {},
   "source": [
    "#### $R^{2}$ Scores"
   ]
  },
  {
   "cell_type": "code",
   "execution_count": 19,
   "metadata": {},
   "outputs": [
    {
     "data": {
      "text/plain": [
       "0.918620216024707"
      ]
     },
     "execution_count": 19,
     "metadata": {},
     "output_type": "execute_result"
    }
   ],
   "source": [
    "ridge_pipe.score(X_train, y_train)"
   ]
  },
  {
   "cell_type": "markdown",
   "metadata": {},
   "source": [
    "-  The model scored high on the training set, with an $R^{2}$score of `.9186`.\n",
    "-  91.86% of the variance in the data (`y_train`) is explained by our model, relative to the mean (`180697.31`)."
   ]
  },
  {
   "cell_type": "code",
   "execution_count": 20,
   "metadata": {},
   "outputs": [
    {
     "data": {
      "text/plain": [
       "0.9068277386207624"
      ]
     },
     "execution_count": 20,
     "metadata": {},
     "output_type": "execute_result"
    }
   ],
   "source": [
    "ridge_pipe.score(X_test, y_test)"
   ]
  },
  {
   "cell_type": "markdown",
   "metadata": {},
   "source": [
    "-  The model scored high on the testing set as well, with an $R^{2}$ score of `.9068`.\n",
    "-  90.68% of the variance in the data (`y_test`) is explained by our model, relative ot the mean (`180697.31`)."
   ]
  },
  {
   "cell_type": "markdown",
   "metadata": {},
   "source": [
    "#### RMSE"
   ]
  },
  {
   "cell_type": "code",
   "execution_count": 21,
   "metadata": {},
   "outputs": [
    {
     "data": {
      "text/plain": [
       "25628.38235327715"
      ]
     },
     "execution_count": 21,
     "metadata": {},
     "output_type": "execute_result"
    }
   ],
   "source": [
    "ridge_rmse = mean_squared_error(y_test, ridge_pipe.predict(X_test)) ** 0.5\n",
    "ridge_rmse"
   ]
  },
  {
   "cell_type": "markdown",
   "metadata": {},
   "source": [
    "-  The model has a RMSE of `25628.38`.\n",
    "-  The predicted sale price will typically be lower or higher than the true sale price by `$25628.38`."
   ]
  },
  {
   "cell_type": "markdown",
   "metadata": {},
   "source": [
    "#### Takeaways\n",
    "-  The outcome between Ridge and Lasso are similar, with the $R^{2}$ score between the training and testing set only differing by `.01` as well.\n",
    "-  Ridge performed slightly better than Lasso. The RMSE is lower by `428`. \n",
    "-  We will move forward with this model and use Grid Search to find the most optimal parameters."
   ]
  },
  {
   "cell_type": "code",
   "execution_count": 22,
   "metadata": {},
   "outputs": [],
   "source": [
    "params = {\n",
    "    'var_thresh__threshold': [.001, .01, .03],\n",
    "    'kbest__k': [101, 103, 105],\n",
    "    'ridge__alpha': np.logspace(-3, 3, 10)\n",
    "}"
   ]
  },
  {
   "cell_type": "markdown",
   "metadata": {},
   "source": [
    "-  A dictionary is set, with the parameters and list of values to search over specified."
   ]
  },
  {
   "cell_type": "code",
   "execution_count": 23,
   "metadata": {},
   "outputs": [],
   "source": [
    "gs = GridSearchCV(ridge_pipe, params, cv=5)"
   ]
  },
  {
   "cell_type": "code",
   "execution_count": 24,
   "metadata": {},
   "outputs": [
    {
     "data": {
      "text/plain": [
       "GridSearchCV(cv=5, error_score='raise',\n",
       "       estimator=Pipeline(memory=None,\n",
       "     steps=[('var_thresh', VarianceThreshold(threshold=0.01)), ('ss', StandardScaler(copy=True, with_mean=True, with_std=True)), ('kbest', SelectKBest(k=100, score_func=<function f_regression at 0x117ca0a60>)), ('ridge', Ridge(alpha=1.0, copy_X=True, fit_intercept=True, max_iter=None,\n",
       "   normalize=False, random_state=None, solver='auto', tol=0.001))]),\n",
       "       fit_params=None, iid=True, n_jobs=1,\n",
       "       param_grid={'var_thresh__threshold': [0.001, 0.01, 0.03], 'kbest__k': [101, 103, 105], 'ridge__alpha': array([1.00000e-03, 4.64159e-03, 2.15443e-02, 1.00000e-01, 4.64159e-01,\n",
       "       2.15443e+00, 1.00000e+01, 4.64159e+01, 2.15443e+02, 1.00000e+03])},\n",
       "       pre_dispatch='2*n_jobs', refit=True, return_train_score='warn',\n",
       "       scoring=None, verbose=0)"
      ]
     },
     "execution_count": 24,
     "metadata": {},
     "output_type": "execute_result"
    }
   ],
   "source": [
    "gs.fit(X_train, y_train)"
   ]
  },
  {
   "cell_type": "code",
   "execution_count": 25,
   "metadata": {},
   "outputs": [
    {
     "data": {
      "text/plain": [
       "0.9242611564867057"
      ]
     },
     "execution_count": 25,
     "metadata": {},
     "output_type": "execute_result"
    }
   ],
   "source": [
    "gs.score(X_train, y_train)"
   ]
  },
  {
   "cell_type": "markdown",
   "metadata": {},
   "source": [
    "-  92.43% of the variance in the data (`y_train`) is explained by our model, relative to the mean (`180697.31`).\n",
    "-  The $R^{2}$ score improved slightly, increaseing from 91.86% to 92.43%."
   ]
  },
  {
   "cell_type": "code",
   "execution_count": 26,
   "metadata": {},
   "outputs": [
    {
     "data": {
      "text/plain": [
       "0.9105664678700035"
      ]
     },
     "execution_count": 26,
     "metadata": {},
     "output_type": "execute_result"
    }
   ],
   "source": [
    "gs.score(X_test, y_test)"
   ]
  },
  {
   "cell_type": "markdown",
   "metadata": {},
   "source": [
    "-  91.06% of the variance in the data (`y_test`) is explained by our model, relative to the mean (`180697.31`).\n",
    "-  The $R^{2}$ score improved slightly, increasing from 90.68% to 91.06%."
   ]
  },
  {
   "cell_type": "markdown",
   "metadata": {},
   "source": [
    "#### Best Parameters"
   ]
  },
  {
   "cell_type": "code",
   "execution_count": 27,
   "metadata": {},
   "outputs": [
    {
     "data": {
      "text/plain": [
       "{'kbest__k': 105,\n",
       " 'ridge__alpha': 46.41588833612773,\n",
       " 'var_thresh__threshold': 0.03}"
      ]
     },
     "execution_count": 27,
     "metadata": {},
     "output_type": "execute_result"
    }
   ],
   "source": [
    "gs.best_params_"
   ]
  },
  {
   "cell_type": "markdown",
   "metadata": {},
   "source": [
    "#### Beta Coefficients"
   ]
  },
  {
   "cell_type": "code",
   "execution_count": 28,
   "metadata": {},
   "outputs": [
    {
     "data": {
      "text/plain": [
       "180697.30658838875"
      ]
     },
     "execution_count": 28,
     "metadata": {},
     "output_type": "execute_result"
    }
   ],
   "source": [
    "ridge_intercept = ridge_pipe.named_steps['ridge'].intercept_\n",
    "ridge_intercept"
   ]
  },
  {
   "cell_type": "markdown",
   "metadata": {},
   "source": [
    "-  `y-intercept = 180697.31`\n",
    "-  When all the features (X) are zero, the sale price is `$180697.31`.\n",
    "    -  This can be due to no property being built yet. \n",
    "    -  The sale price may only represent the price of the land, with no features included."
   ]
  },
  {
   "cell_type": "code",
   "execution_count": 29,
   "metadata": {},
   "outputs": [],
   "source": [
    "ridge_columns = X.columns\n",
    "ridge_columns = ridge_columns[gs.best_estimator_.named_steps['var_thresh'].get_support()]\n",
    "ridge_columns = ridge_columns[gs.best_estimator_.named_steps['kbest'].get_support()]"
   ]
  },
  {
   "cell_type": "code",
   "execution_count": 30,
   "metadata": {},
   "outputs": [],
   "source": [
    "ridge_betas = pd.DataFrame(gs.best_estimator_.named_steps['ridge'].coef_, index=ridge_columns)"
   ]
  },
  {
   "cell_type": "code",
   "execution_count": 31,
   "metadata": {},
   "outputs": [],
   "source": [
    "ridge_betas.columns = ['weights']"
   ]
  },
  {
   "cell_type": "code",
   "execution_count": 32,
   "metadata": {},
   "outputs": [],
   "source": [
    "ridge_betas['abs_w'] = ridge_betas['weights'].abs()"
   ]
  },
  {
   "cell_type": "code",
   "execution_count": 33,
   "metadata": {},
   "outputs": [
    {
     "data": {
      "text/plain": [
       "105"
      ]
     },
     "execution_count": 33,
     "metadata": {},
     "output_type": "execute_result"
    }
   ],
   "source": [
    "ridge_betas.shape[0]"
   ]
  },
  {
   "cell_type": "markdown",
   "metadata": {},
   "source": [
    "-  The model has a total of 105 features.\n",
    "-  We know this because the best value for `k` is `105` when we did Grid Search."
   ]
  },
  {
   "cell_type": "code",
   "execution_count": 34,
   "metadata": {},
   "outputs": [
    {
     "data": {
      "text/html": [
       "<div>\n",
       "<style scoped>\n",
       "    .dataframe tbody tr th:only-of-type {\n",
       "        vertical-align: middle;\n",
       "    }\n",
       "\n",
       "    .dataframe tbody tr th {\n",
       "        vertical-align: top;\n",
       "    }\n",
       "\n",
       "    .dataframe thead th {\n",
       "        text-align: right;\n",
       "    }\n",
       "</style>\n",
       "<table border=\"1\" class=\"dataframe\">\n",
       "  <thead>\n",
       "    <tr style=\"text-align: right;\">\n",
       "      <th></th>\n",
       "      <th>weights</th>\n",
       "    </tr>\n",
       "  </thead>\n",
       "  <tbody>\n",
       "    <tr>\n",
       "      <th>gr_liv_area</th>\n",
       "      <td>14333.209867</td>\n",
       "    </tr>\n",
       "    <tr>\n",
       "      <th>overall_qual</th>\n",
       "      <td>10624.333213</td>\n",
       "    </tr>\n",
       "    <tr>\n",
       "      <th>2nd_flr_sf</th>\n",
       "      <td>10604.644218</td>\n",
       "    </tr>\n",
       "    <tr>\n",
       "      <th>total_bsmt_sf</th>\n",
       "      <td>9824.733990</td>\n",
       "    </tr>\n",
       "    <tr>\n",
       "      <th>1st_flr_sf</th>\n",
       "      <td>9386.175575</td>\n",
       "    </tr>\n",
       "  </tbody>\n",
       "</table>\n",
       "</div>"
      ],
      "text/plain": [
       "                    weights\n",
       "gr_liv_area    14333.209867\n",
       "overall_qual   10624.333213\n",
       "2nd_flr_sf     10604.644218\n",
       "total_bsmt_sf   9824.733990\n",
       "1st_flr_sf      9386.175575"
      ]
     },
     "execution_count": 34,
     "metadata": {},
     "output_type": "execute_result"
    }
   ],
   "source": [
    "ridge_betas.sort_values(by='abs_w', ascending=False)[['weights']].head()"
   ]
  },
  {
   "cell_type": "markdown",
   "metadata": {},
   "source": [
    "-  The top 5 heaviest predictors of our model has a positive relationship with `saleprice`.\n",
    "-  Most features are already pre-determined and will be difficult for homeowners to change, unless major renovations take place.\n",
    "-  Only `overall_qual` can be easily improved upon."
   ]
  },
  {
   "cell_type": "markdown",
   "metadata": {},
   "source": [
    "#### Visualize Beta Coefficients"
   ]
  },
  {
   "cell_type": "code",
   "execution_count": 35,
   "metadata": {},
   "outputs": [],
   "source": [
    "ridge_weights = ridge_betas.sort_values(by='abs_w', ascending=False)['weights'].head(10)"
   ]
  },
  {
   "cell_type": "code",
   "execution_count": 36,
   "metadata": {},
   "outputs": [],
   "source": [
    "ridge_labels = ridge_weights.index"
   ]
  },
  {
   "cell_type": "code",
   "execution_count": 37,
   "metadata": {},
   "outputs": [
    {
     "data": {
      "image/png": "[encoded data removed]",
      "text/plain": [
       "<Figure size 1440x1080 with 1 Axes>"
      ]
     },
     "metadata": {},
     "output_type": "display_data"
    }
   ],
   "source": [
    "plt.figure(figsize=(20, 15))\n",
    "plt.barh(ridge_labels, ridge_weights)\n",
    "plt.yticks(fontsize=20)\n",
    "plt.xticks(fontsize=20)\n",
    "plt.xlabel('Weights', fontsize=25)\n",
    "plt.title(f'Top 10 Features and Weights\\nY-Intercept = {ridge_intercept: .2f}', fontsize=30)\n",
    "plt.tight_layout()"
   ]
  },
  {
   "cell_type": "markdown",
   "metadata": {},
   "source": [
    "#### Top 10 Predictors"
   ]
  },
  {
   "cell_type": "markdown",
   "metadata": {},
   "source": [
    "| feature | weight |\n",
    "| --- | --- |\n",
    "| gr_liv_area | 1.43e+04 |\n",
    "| overall_qual | 1.06e+04 |\n",
    "| 2nd_flr_sf | 1.06e+04 |\n",
    "| total_bsmt_sf | 9.82e+03 |\n",
    "| 1st_flr_sf | 9.39e+03 |\n",
    "| year_built | 7.44e+03 |\n",
    "| bsmtfin_sf_1 | 7.17e+03 |\n",
    "| garage_area | 6.11e+03 |\n",
    "| overall_cond | 5.80e+03 |\n",
    "| exter_qual_Ex | 5.67e+03 |"
   ]
  },
  {
   "cell_type": "markdown",
   "metadata": {},
   "source": [
    "-  The top 10 predictors of our model has a positive relationship with `saleprice`.\n",
    "-  `gr_liv_area` (above ground living area sqft.) carries the most weight. With a 1 unit increase in `gr_liv_area`, the `saleprice` increases by `$14300`.\n",
    "-  As noted before, most of the features is square feet, making it hard to improve.\n",
    "-  `overall_qual`, `overall_cond` and `exter_qual_Ex` are features that carry the most weight and relatively easier to improve."
   ]
  },
  {
   "cell_type": "markdown",
   "metadata": {},
   "source": [
    "#### Visualize Errors"
   ]
  },
  {
   "cell_type": "code",
   "execution_count": 38,
   "metadata": {},
   "outputs": [
    {
     "data": {
      "image/png": "[encoded data removed]",
      "text/plain": [
       "<Figure size 1440x720 with 1 Axes>"
      ]
     },
     "metadata": {},
     "output_type": "display_data"
    }
   ],
   "source": [
    "plt.figure(figsize=(20, 10))\n",
    "plt.title(f'True Values vs. Predicted Values\\nRMSE: {mean_squared_error(y_test, gs.predict(X_test)) ** 0.5: .2f}', fontsize=35)\n",
    "plt.scatter(y_test, gs.predict(X_test))\n",
    "plt.xticks(fontsize=20)\n",
    "plt.yticks(fontsize=20)\n",
    "plt.ylabel('Predicted', fontsize=25)\n",
    "plt.xlabel('True', fontsize=25)\n",
    "plt.plot([0, 600000], [0, 600000], color='r')\n",
    "plt.legend(['Actual'], fontsize=20);"
   ]
  },
  {
   "cell_type": "markdown",
   "metadata": {},
   "source": [
    "-  Plots the relationship between my predicted and true values.\n",
    "-  The red line represents the true values.\n",
    "-  The distance between each data point and the line represents the error.\n",
    "-  My model is bad at predicting the sale price for houses, where the true price is greater than `$400000`.\n",
    "-  My model has a RMSE score of `25108.92`.\n",
    "    -  The predicted sale price will typically be lower or higher than the true sale price by `$25108.92`."
   ]
  },
  {
   "cell_type": "markdown",
   "metadata": {},
   "source": [
    "### Pickle Columns and Model for Future Predictions"
   ]
  },
  {
   "cell_type": "code",
   "execution_count": 39,
   "metadata": {},
   "outputs": [],
   "source": [
    "with open('../assets/columns.pkl', 'wb+') as f:\n",
    "    pickle.dump(X.columns, f)"
   ]
  },
  {
   "cell_type": "code",
   "execution_count": 40,
   "metadata": {},
   "outputs": [],
   "source": [
    "with open('../assets/ridge.pkl', 'wb+') as f:\n",
    "    pickle.dump(gs, f)"
   ]
  },
  {
   "cell_type": "markdown",
   "metadata": {},
   "source": [
    "### Recommendations"
   ]
  },
  {
   "cell_type": "markdown",
   "metadata": {},
   "source": [
    "-  From the top 10 predictors, it’ll be best to focus on improving:\n",
    "    -  overall quality\n",
    "    -  overall condition\n",
    "\n",
    "-  These features contribute the most weight to increasing the sale price of a house, but does not require as much renovations and expenses as the others do."
   ]
  },
  {
   "cell_type": "code",
   "execution_count": null,
   "metadata": {},
   "outputs": [],
   "source": []
  }
 ],
 "metadata": {
  "kernelspec": {
   "display_name": "Python 3",
   "language": "python",
   "name": "python3"
  },
  "language_info": {
   "codemirror_mode": {
    "name": "ipython",
    "version": 3
   },
   "file_extension": ".py",
   "mimetype": "text/x-python",
   "name": "python",
   "nbconvert_exporter": "python",
   "pygments_lexer": "ipython3",
   "version": "3.6.5"
  }
 },
 "nbformat": 4,
 "nbformat_minor": 2
}
